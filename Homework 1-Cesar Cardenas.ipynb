{
 "cells": [
  {
   "cell_type": "markdown",
   "id": "8d0a8bef",
   "metadata": {},
   "source": [
    "# Homework 1"
   ]
  },
  {
   "cell_type": "code",
   "execution_count": 1,
   "id": "dacefb04",
   "metadata": {},
   "outputs": [],
   "source": [
    "import time\n",
    "import pandas as pd\n",
    "import numpy as np\n",
    "import matplotlib.pyplot as plt\n",
    "%matplotlib inline  "
   ]
  },
  {
   "cell_type": "markdown",
   "id": "35509289",
   "metadata": {},
   "source": [
    "##  1. Sort the following functions in decreasing order of asymptotic complexity ($O(f(n))$):\n",
    "\n",
    "- $f_1(n) = n^\\sqrt{n}$\n",
    "- $f_2(n) = 2^n$\n",
    "- $f_3(n) = {n\\choose 2}$\n",
    "- $f_4(n) = \\sum_{i=2}^n (i-1)$"
   ]
  },
  {
   "cell_type": "markdown",
   "id": "64e0ed33",
   "metadata": {
    "scrolled": false
   },
   "source": [
    "$f_2 (n)>f_1 (n)$ si n<4"
   ]
  },
  {
   "cell_type": "markdown",
   "id": "1396daa8",
   "metadata": {},
   "source": [
    "$f_1 (n)>f_3 (n)$"
   ]
  },
  {
   "cell_type": "markdown",
   "id": "5d55684f",
   "metadata": {},
   "source": [
    "$f_3(n)<f_4(n)$ si $n<1.5$ y $2<n<2.5$"
   ]
  },
  {
   "cell_type": "markdown",
   "id": "6079fb21",
   "metadata": {},
   "source": [
    "## 2. Implement in Python the insertion sort procedure to sort into non-increasing instead of non-decreasing order \n",
    "\n",
    "1. Use the `time` function to measure the execution time for the best and worst inputs of size between 10 and 1,000 (use steps of 10)\n",
    "2. Plot the best and worst execution times measured in (2.1) as a function of $n$\n",
    "3. Use the `random` function to generate randomly sorted inputs to calculate the execution time. For each $n$ run the program for 100 different inputs. Do for $n = 100,200, \\dots, 1000$.\n",
    "4. Plot the mean, median, and standard deviation as a function of $n$ for the values obtained in 2.3\n"
   ]
  },
  {
   "cell_type": "markdown",
   "id": "b879119b",
   "metadata": {},
   "source": [
    "$A= [a_1,a_2, \\dots,n_n]$\n"
   ]
  },
  {
   "cell_type": "markdown",
   "id": "13c9d1f1",
   "metadata": {},
   "source": [
    "$A'= [a'_1,a'_2, \\dots, n'_n]$"
   ]
  },
  {
   "cell_type": "code",
   "execution_count": null,
   "id": "794b6f11",
   "metadata": {},
   "outputs": [],
   "source": [
    "def in_sort(A):\n",
    "    s=time.time()\n",
    "    for j=A.length to 1\n",
    "    key = A[j]\n",
    "    i=j-1\n",
    "    while i>0 and A[i]>key\n",
    "        A[i+1]=A[i]\n",
    "        i=i-1\n",
    "    A[i-1]=key\n",
    "    return (A,time.time-s)"
   ]
  },
  {
   "cell_type": "code",
   "execution_count": null,
   "id": "6141364f",
   "metadata": {},
   "outputs": [],
   "source": [
    "r=pd.DataFrame()\n",
    "r['n']=range(10,1000,10)"
   ]
  },
  {
   "cell_type": "code",
   "execution_count": null,
   "id": "982f2375",
   "metadata": {},
   "outputs": [],
   "source": [
    "A=random.random_array(n)"
   ]
  },
  {
   "cell_type": "markdown",
   "id": "a3746feb",
   "metadata": {},
   "source": [
    "## 3.  CLRS 2.1-4\n",
    "pg. 22"
   ]
  },
  {
   "cell_type": "raw",
   "id": "347da40f",
   "metadata": {},
   "source": [
    "Consider the problem of adding two n-bit binary integers, stored in two n-element\n",
    "arrays A and B. The sum of the two integers should be stored in binary form in\n",
    "an .n C 1/-element array C. State the problem formally and write pseudocode for\n",
    "adding the two integers."
   ]
  },
  {
   "cell_type": "code",
   "execution_count": null,
   "id": "6b7be820",
   "metadata": {},
   "outputs": [],
   "source": [
    "a=0\n",
    "for i=n-1 to 0\n",
    "    C[i+1]=(A[i]+B[i]+a)mod 2\n",
    "    a=(A[i]+B[i]+a)/2\n",
    "C[0]=a"
   ]
  },
  {
   "cell_type": "markdown",
   "id": "fd9ddcc1",
   "metadata": {},
   "source": [
    "## 4.  CLRS 3.1-1\n",
    "pg. 52"
   ]
  },
  {
   "cell_type": "raw",
   "id": "409465cd",
   "metadata": {},
   "source": [
    "Let f .and g. be asymptotically non negative functions. Using the basic definition of \n",
    "‚theta-notation, prove that max (f(n),g(n))=theta(f(n)+g(n))"
   ]
  },
  {
   "cell_type": "raw",
   "id": "3cd4f8ce",
   "metadata": {},
   "source": [
    "Ya que son asymptotically nonnegative podemos decir lo siguiente f(n)>=0 y g(n)>=0\n",
    "Por lo que f(n)+g(n)>=f(n)>=0 y f(n)+g(n)>=g(n)>=0\n",
    "Como max(f(n),g(n)) solo puede ser una funcion, podemos decir lo siguiente\n",
    "max(f(n),g(n))<=f(n) o g(n)\n",
    "Por la definicion de theta sacamos lo siguiente:\n",
    "    max(f(n),g(n))<=c2(f(n)+g(n))\n",
    "    Donde c2 = 1\n",
    "    \n",
    "max(f(n),g(n)) siempre va a ser mayor igual que f(n) o g(n) por lo que podemos decir lo siguiente\n",
    "max(f(n),g(n))>=f(n)>=0         max(f(n),g(n))>=g(n)>=0\n",
    "f(n)+g(n)<=2(max(f(n),g(n)))\n",
    "max(f(n),g(n))>=c1(f(n)+g(n))\n",
    "Donde c1= 1/2"
   ]
  },
  {
   "cell_type": "markdown",
   "id": "4a070079",
   "metadata": {},
   "source": [
    "## 5. CLRS 3.1-2\n",
    "pg. 52"
   ]
  },
  {
   "cell_type": "raw",
   "id": "7edfbd6a",
   "metadata": {},
   "source": [
    "Show that for any real constants a and b, where b>0,\n",
    "(n+a)^b = theta (n^b)"
   ]
  },
  {
   "cell_type": "markdown",
   "id": "cec26db1",
   "metadata": {},
   "source": [
    "Esto quiere decir lo siguiente:\n",
    "\n",
    "$    c1 n^b <= (n+a)^b <= c2 n^b$\n",
    "\n",
    "$0<=1/2 n <= n+a <= 2n$\n",
    "\n",
    "Por lo que$ c1=(1/2)^b$ y $c2= 2^b$\n"
   ]
  },
  {
   "cell_type": "markdown",
   "id": "7fe796ed",
   "metadata": {},
   "source": [
    "## 6. CLRS 3.1-6\n",
    "pg. 53"
   ]
  },
  {
   "cell_type": "raw",
   "id": "2df9b13f",
   "metadata": {},
   "source": [
    "Prove that the running time of an algorithm is theta(g(n)) if and only if its worst-case\n",
    "running time is O(g(n)) and its best-case running time Omega(g(n))"
   ]
  },
  {
   "cell_type": "markdown",
   "id": "ac98e95c",
   "metadata": {},
   "source": [
    "Estosignifica lo siguiente:\n",
    "\n",
    "$0<=c1 g(n) <=f(n) <= c2 g(n)$\n"
   ]
  },
  {
   "cell_type": "markdown",
   "id": "23bd4213",
   "metadata": {},
   "source": [
    " Por lo que $O(g(n))$ significa el mejor y peor caso y$ Omega (g(n))$ de igual manera, por lo que es verdadero "
   ]
  },
  {
   "cell_type": "markdown",
   "id": "2d3a36bc",
   "metadata": {},
   "source": [
    "## 7. CLRS 3-4 (a,b,e,g)\n",
    "pg. 62"
   ]
  },
  {
   "cell_type": "markdown",
   "id": "75a73dac",
   "metadata": {},
   "source": [
    "Let f(n) and g(n) be asymptotically positive functions. Prove or disprove each of\n",
    "the following conjectures."
   ]
  },
  {
   "cell_type": "markdown",
   "id": "0503c35c",
   "metadata": {},
   "source": [
    "Imaginemos que $f(n) = n$ y que $g(n) = n^2$, no se cumple"
   ]
  },
  {
   "cell_type": "markdown",
   "id": "146fe93b",
   "metadata": {},
   "source": [
    "$a) falso$"
   ]
  },
  {
   "cell_type": "markdown",
   "id": "b1e8270f",
   "metadata": {},
   "source": [
    "Imaginemos que $f(n)=n$ y que $g(n)=n^2$, de igual forma no se cumple que\n",
    "theta(min($n,n^2$))= $n + n^2$"
   ]
  },
  {
   "cell_type": "markdown",
   "id": "e1e8e1ad",
   "metadata": {},
   "source": [
    "$b)falso$"
   ]
  },
  {
   "cell_type": "markdown",
   "id": "8679ed38",
   "metadata": {},
   "source": [
    "Si $f(n)<1$ no se sostiene"
   ]
  },
  {
   "cell_type": "markdown",
   "id": "33a257ec",
   "metadata": {},
   "source": [
    "$e) falso$"
   ]
  },
  {
   "cell_type": "markdown",
   "id": "d931266d",
   "metadata": {},
   "source": [
    "Si $f(n)=4^n$ esto no funciona"
   ]
  },
  {
   "cell_type": "markdown",
   "id": "7afa748a",
   "metadata": {},
   "source": [
    "$g)falso$"
   ]
  }
 ],
 "metadata": {
  "kernelspec": {
   "display_name": "Python 3",
   "language": "python",
   "name": "python3"
  },
  "language_info": {
   "codemirror_mode": {
    "name": "ipython",
    "version": 3
   },
   "file_extension": ".py",
   "mimetype": "text/x-python",
   "name": "python",
   "nbconvert_exporter": "python",
   "pygments_lexer": "ipython3",
   "version": "3.8.8"
  }
 },
 "nbformat": 4,
 "nbformat_minor": 5
}
